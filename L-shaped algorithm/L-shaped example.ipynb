{
 "cells": [
  {
   "cell_type": "markdown",
   "metadata": {},
   "source": [
    "# <b><span style='color:#2ae4f5'>|</span> L-shape Algorithm <a id = \"1\" > </b> "
   ]
  },
  {
   "cell_type": "markdown",
   "metadata": {},
   "source": [
    "`Problem Decomposition`\n",
    "\n",
    "- **Master Problem**: Solve the master problem, which involves the first stage decision variables.\n",
    "\n",
    "- **Subproblems**: For each scenario, solve the subproblems using the fixed variables from the master problem.\n",
    "\n",
    "`Iterative Process`\n",
    "\n",
    "* **Step 1**: Solve the master problem to get candidate solutions for the first-stage variables.\n",
    "\n",
    "* **Step 2**: Solve the subproblems for each scenario using the candidate solutions from the master problem.\n",
    "\n",
    "* **Step 3**: Check for feasibility and optimality. If the subproblems provide cuts (constraints) that are violated by the master problem solution, add these cuts to the master problem.\n",
    "\n",
    "* **Step 4**: Update the master problem with the new cuts and resolve.\n",
    "\n",
    "* **Step 5**: Repeat steps 1-4 until no more cuts are added, indicating convergence to the optimal solution."
   ]
  },
  {
   "cell_type": "markdown",
   "metadata": {},
   "source": [
    "## \n",
    "<div style=\"color:white;display:fill;border-radius:8px;\n",
    "            background-color:#03112A;font-size:150%;\n",
    "            letter-spacing:1.0px;background-image: url(https://i.imgur.com/GVd0La1.png)\">\n",
    "    <p style=\"padding: 8px;color:white;\"><b><b><span style='color:#2ae4f5'>|</span></b> Exercise <a id = \"2\" ></b></p>\n",
    "</div>"
   ]
  },
  {
   "cell_type": "markdown",
   "metadata": {},
   "source": [
    "$min \\ z = 100x_1 + 150x_2 +E_{\\xi}[q_1y_1+q_2y_2]$\n",
    "\n",
    "$s.t.$\n",
    "\n",
    "$x_1 + x_2 \\le 120$\n",
    "\n",
    "$6y_1 + 10y_2 \\le 60x_1$\n",
    "\n",
    "$8y_1 + 5y_2 \\le 80x_1$\n",
    "\n",
    "$ 0 \\le y_1 \\le d_1$\n",
    "\n",
    "$ 0 \\le y_2 \\le d_2$\n",
    "\n",
    "$ x_1 \\ge 40$\n",
    "\n",
    "$ x_2 \\ge 20$"
   ]
  },
  {
   "cell_type": "code",
   "execution_count": 2,
   "metadata": {},
   "outputs": [],
   "source": [
    "import numpy as np\n",
    "from pulp import *\n",
    "import math"
   ]
  },
  {
   "cell_type": "code",
   "execution_count": 3,
   "metadata": {},
   "outputs": [],
   "source": [
    "idx = [1, 2]\n",
    "scenarios = [1, 2]\n",
    "prob = {1: 0.4, 2: 0.6}\n",
    "d = {1: {1: 500, 2: 300}, 2: {1: 100, 2: 300}}\n",
    "q = {1: {1: -24, 2: -28}, 2:{1: -28, 2: -32}}"
   ]
  },
  {
   "cell_type": "code",
   "execution_count": 4,
   "metadata": {},
   "outputs": [],
   "source": [
    "# Define Master problem\n",
    "master = LpProblem('MasterProblem', sense=LpMinimize)\n",
    "x = LpVariable.dicts(\"X\", idx, lowBound=0, cat=\"continuous\")\n",
    "theta = LpVariable('Theta', cat=\"continuous\")\n",
    "\n",
    "master += 100*x[1] + 150*x[2] + theta\n",
    "master += x[1] + x[2] <= 120\n",
    "master += x[1] >= 40\n",
    "master += x[2] >= 20"
   ]
  },
  {
   "cell_type": "code",
   "execution_count": null,
   "metadata": {},
   "outputs": [],
   "source": [
    "# Define Subproblems\n",
    "h = {}\n",
    "for s in scenarios:\n",
    "\tsub = LpProblem('SubProblem', LpMinimize)\n",
    "\ty = LpVariable.dicts('Y', idx, lowBound= 0, cat=LpContinuous)\n",
    "\tsub += q[1][s]*y[1] + q[2][s]*y[2]\n",
    "\tsub += 6*y[1] + 10*y[2] <= 60 * x[1]\n",
    "\tsub += 8*y[1] + 5*y[2] <= 80 * x[2]\n",
    "\tsub += y[1] <= d[1][s]\n",
    "\tsub += y[2] <= d[2][s]\n",
    " \n",
    "\th_tmp = []\n",
    "\tfor name, constraint in sub.constraints.items():\n",
    "\t\th_tmp.append(-constraint.toDict()['constant'])\n",
    "\th[s] = h_tmp\n",
    " \n",
    "h"
   ]
  },
  {
   "cell_type": "code",
   "execution_count": null,
   "metadata": {},
   "outputs": [],
   "source": [
    "T = []\n",
    "for name, constraint in sub.constraints.items():\n",
    "    coeff_row = []\n",
    "    for var in master.variables():\n",
    "        if var != theta:\n",
    "            coeff = constraint.get(var, 0)\n",
    "            coeff_row.append(coeff)\n",
    "    T.append(coeff_row)\n",
    "    \n",
    "T"
   ]
  },
  {
   "cell_type": "code",
   "execution_count": null,
   "metadata": {},
   "outputs": [],
   "source": [
    "# Step 1: set r, s, v\n",
    "r, s, v = (0, 0, 0)\n",
    "\n",
    "# Step 2: Define Master problem\n",
    "master = LpProblem('MasterProblem', sense=LpMinimize)\n",
    "x = LpVariable.dicts(\"X\", idx, lowBound=0, cat=\"continuous\")\n",
    "theta = LpVariable('Theta', cat=\"continuous\")\n",
    "\n",
    "master += 100*x[1] + 150*x[2] + theta\n",
    "master += x[1] + x[2] <= 120\n",
    "master += x[1] >= 40\n",
    "master += x[2] >= 20\n",
    "\n",
    "not_stop_condition = True\n",
    "while not_stop_condition:\n",
    "    v += 1\n",
    "    master.solve(PULP_CBC_CMD(msg=False))\n",
    "    \n",
    "    print(f'Iteration {v}')\n",
    "    print(f\"Master Problem Objective Function: {value(master.objective)}\")\n",
    "\n",
    "    if v == 1:\n",
    "        theta.varValue = -math.inf\n",
    "    print(f\"Theta: {theta.varValue}\")\n",
    "    \n",
    "    \n",
    "    \n",
    "        \n",
    "    e = []\n",
    "    E = []\n",
    "    simplex_multiplier = {}\n",
    "    for s in scenarios:\n",
    "        sub = LpProblem('SubProblem', LpMinimize)\n",
    "        y = LpVariable.dicts('Y', idx, lowBound= 0, cat=LpContinuous)\n",
    "        sub += q[1][s]*y[1] + q[2][s]*y[2]\n",
    "        sub += 6*y[1] + 10*y[2] <= 0 + 60 * x[1].varValue\n",
    "        sub += 8*y[1] + 5*y[2] <= 0 + 80 * x[2].varValue\n",
    "        sub += y[1] <= d[1][s]\n",
    "        sub += y[2] <= d[2][s]\n",
    "        \n",
    "        sub.solve(PULP_CBC_CMD(msg=False, keepFiles=False))\n",
    "        \n",
    "        pi = []\n",
    "        for _, c in sub.constraints.items():\n",
    "            pi.append(c.pi)\n",
    "        simplex_multiplier[s] = pi\n",
    "\n",
    "        e.append(prob[s] * np.array([simplex_multiplier[s]]) @ np.array(h[s]))\n",
    "        \n",
    "        E.append(prob[s] * np.array([simplex_multiplier[s]]) @ np.array(T))\n",
    "     \n",
    "    e_sum = sum(e)\n",
    "    E_sum = sum(E)\n",
    "    w = e_sum - E_sum @ np.array([x[1].varValue, x[2].varValue])\n",
    "    if w > theta.varValue:\n",
    "        s += 1\n",
    "        master.addConstraint(list(E_sum @ np.array([x[1], x[2]]))[0] + theta >= e_sum[0])\n",
    "        print(\"added optima1ity cut to step 1.\")\n",
    "        print('***'*15)\n",
    "    else:\n",
    "        print('***'*15)\n",
    "        print('STOP CONDITION')\n",
    "        print('***'*15)\n",
    "        print(f\"Master Problem Objective Function: {value(master.objective)}\")\n",
    "        print(f\"x1: {x[1].varValue}, x2: {x[2].varValue}\")\n",
    "        not_stop_condition = False\n",
    "        "
   ]
  }
 ],
 "metadata": {
  "kernelspec": {
   "display_name": "Python 3",
   "language": "python",
   "name": "python3"
  },
  "language_info": {
   "codemirror_mode": {
    "name": "ipython",
    "version": 3
   },
   "file_extension": ".py",
   "mimetype": "text/x-python",
   "name": "python",
   "nbconvert_exporter": "python",
   "pygments_lexer": "ipython3",
   "version": "3.10.7"
  }
 },
 "nbformat": 4,
 "nbformat_minor": 2
}
